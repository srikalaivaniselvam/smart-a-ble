{
 "cells": [
  {
   "cell_type": "code",
   "execution_count": 368,
   "metadata": {},
   "outputs": [],
   "source": [
    "import numpy as np\n",
    "from matplotlib import pyplot as plt\n",
    "import pandas as pd\n",
    "%matplotlib inline\n",
    "from sklearn.model_selection import train_test_split\n",
    "from sklearn.metrics import r2_score\n",
    "from decimal import Decimal, localcontext\n",
    "#import numdifftools as nd\n",
    "import matplotlib.pyplot as plt\n",
    "import numpy as np"
   ]
  },
  {
   "cell_type": "code",
   "execution_count": 386,
   "metadata": {},
   "outputs": [
    {
     "name": "stdout",
     "output_type": "stream",
     "text": [
      "   dpl  nperi    ci         pow  latency  nce  noise  category\n",
      "0   27      3  10.0  556.758183      119   12      1         1\n",
      "1   27      3  15.0  494.819065       95    6      1         1\n",
      "2   27      3  20.0  405.817338      205   10      1         3\n",
      "3   27      3  25.0  372.365782      190    8      1         2\n",
      "4   27      3  30.0  312.348810      378   13      1         4\n"
     ]
    },
    {
     "data": {
      "text/plain": [
       "<matplotlib.axes._subplots.AxesSubplot at 0x2d593332748>"
      ]
     },
     "execution_count": 386,
     "metadata": {},
     "output_type": "execute_result"
    },
    {
     "data": {
      "image/png": "[encoded data removed]",
      "text/plain": [
       "<Figure size 432x288 with 2 Axes>"
      ]
     },
     "metadata": {
      "needs_background": "light"
     },
     "output_type": "display_data"
    }
   ],
   "source": [
    "data = pd.read_csv('model_input_ver5.csv')\n",
    "print(data.head(5))\n",
    "import seaborn as sns\n",
    "%matplotlib inline\n",
    "sns.heatmap(data.corr())"
   ]
  },
  {
   "cell_type": "code",
   "execution_count": 387,
   "metadata": {},
   "outputs": [
    {
     "name": "stdout",
     "output_type": "stream",
     "text": [
      "       dpl  nperi  latency  nce  category\n",
      "0       27      3      119   12         1\n",
      "1       27      3       95    6         1\n",
      "2       27      3      205   10         3\n",
      "3       27      3      190    8         2\n",
      "4       27      3      378   13         4\n",
      "5       27      3      271    8         3\n",
      "6       27      3      177    5         3\n",
      "7       27      3      183    4         2\n",
      "8       27      3      417    9         3\n",
      "9       27      3      403    8         2\n",
      "10      27      3      471    8         3\n",
      "11      27      3      768   11         4\n",
      "12      27      3      263    3         2\n",
      "13      27      3      424    5         2\n",
      "14      27      3      490    4         3\n",
      "15      27      3      468    4         4\n",
      "16      27      3      720    4         4\n",
      "17      27      3      969    4         4\n",
      "18      27      3     1220    5         4\n",
      "19      27      3     1003    4         4\n",
      "20      64      3      109   11         1\n",
      "21      64      3       83    6         1\n",
      "22      64      3      238   12         2\n",
      "23      64      3      240   10         3\n",
      "24      64      3      438   15         4\n",
      "25      64      3      331   10         3\n",
      "26      64      3      129    4         3\n",
      "27      64      3      172    4         2\n",
      "28      64      3      362    8         3\n",
      "29      64      3      385    7         2\n",
      "...    ...    ...      ...  ...       ...\n",
      "10924   27      3       95    6         1\n",
      "10925   27      3       95    6         1\n",
      "10926   27      3       95    6         1\n",
      "10927   27      3       95    6         1\n",
      "10928   27      3       95    6         1\n",
      "10929   27      3       95    6         1\n",
      "10930   27      3       95    6         1\n",
      "10931   27      3       95    6         1\n",
      "10932   27      3       95    6         1\n",
      "10933   27      3       95    6         1\n",
      "10934   27      3       95    6         1\n",
      "10935   27      3       95    6         1\n",
      "10936   27      3       95    6         1\n",
      "10937   27      3       95    6         1\n",
      "10938   27      3       95    6         1\n",
      "10939   27      3       95    6         1\n",
      "10940   27      3       95    6         1\n",
      "10941   27      3       95    6         1\n",
      "10942   27      3       95    6         1\n",
      "10943   27      3       95    6         1\n",
      "10944   27      3       95    6         1\n",
      "10945   27      3       95    6         1\n",
      "10946   27      3       95    6         1\n",
      "10947   27      3       95    6         1\n",
      "10948   27      3       95    6         1\n",
      "10949   27      3       95    6         1\n",
      "10950   27      3       95    6         1\n",
      "10951   27      3       95    6         1\n",
      "10952   27      3       95    6         1\n",
      "10953   27      3       95    6         1\n",
      "\n",
      "[10954 rows x 5 columns]\n"
     ]
    }
   ],
   "source": [
    "X=data[['dpl','nperi','latency','nce','category']]\n",
    "y=data['ci']\n",
    "X_train=X\n",
    "y_train=y\n",
    "print(X)"
   ]
  },
  {
   "cell_type": "code",
   "execution_count": 388,
   "metadata": {},
   "outputs": [],
   "source": [
    "dataValidate = pd.read_csv('model_input_ver3.csv')\n",
    "X_test = dataValidate[['dpl','nperi','latency','nce','category']]\n",
    "y_test = dataValidate['ci']"
   ]
  },
  {
   "cell_type": "code",
   "execution_count": 389,
   "metadata": {},
   "outputs": [],
   "source": [
    "#split data into data training and data testing\n",
    "from sklearn.model_selection import train_test_split\n",
    "X_train, X_test, y_train, y_test = train_test_split(X, y, test_size=0.2)"
   ]
  },
  {
   "cell_type": "code",
   "execution_count": 390,
   "metadata": {},
   "outputs": [
    {
     "name": "stdout",
     "output_type": "stream",
     "text": [
      "[[0. 0. 0. 0.]]\n"
     ]
    }
   ],
   "source": [
    "#Standardizing\n",
    "from sklearn.preprocessing import StandardScaler\n",
    "test=[500,323,9,0.1]\n",
    "X_std=StandardScaler().fit_transform([test])\n",
    "print(X_std)"
   ]
  },
  {
   "cell_type": "code",
   "execution_count": 407,
   "metadata": {},
   "outputs": [
    {
     "name": "stdout",
     "output_type": "stream",
     "text": [
      "[46.]\n",
      "[13.         10.07011393 30.         ... 13.          9.\n",
      " 35.19838057]\n",
      "0.9754690705698439\n"
     ]
    },
    {
     "data": {
      "image/png": "[encoded data removed]",
      "text/plain": [
       "<Figure size 432x288 with 1 Axes>"
      ]
     },
     "metadata": {
      "needs_background": "light"
     },
     "output_type": "display_data"
    },
    {
     "data": {
      "image/png": "[encoded data removed]",
      "text/plain": [
       "<Figure size 432x288 with 1 Axes>"
      ]
     },
     "metadata": {
      "needs_background": "light"
     },
     "output_type": "display_data"
    }
   ],
   "source": [
    "''#1 Importing the libraries\n",
    "import numpy as np\n",
    "import matplotlib.pyplot as plt\n",
    "import pandas as pd\n",
    "# It doesn't need to split the dataset because we have a small dataset\n",
    "#3 Fitting the Decision Tree Regression Model to the dataset\n",
    "# Create the Decision Tree regressor object here\n",
    "from sklearn.tree import DecisionTreeRegressor\n",
    "#DecisionTreeRegressor class has many parameters. Input only #random_state=0 or 42.\n",
    "regressor = DecisionTreeRegressor(random_state=0)\n",
    "#Fit the regressor object to the dataset.\n",
    "regressor.fit(X,y)\n",
    "#4 Predicting a new result\n",
    "y_pred = regressor.predict([[251,5,90,2,1]])\n",
    "print(y_pred)\n",
    "y_pred = regressor.predict(X_test)\n",
    "print(y_pred)\n",
    "# The score method returns the accacy of the model\n",
    "score = regressor.score(X_test, y_test)\n",
    "print(score)\n",
    "#5 Visualising the Decision Tree Regression results\n",
    "plt.scatter(X['latency'], y, color = 'red')\n",
    "plt.title('Original data')\n",
    "plt.xlabel('Latency')\n",
    "plt.ylabel('Actual ci')\n",
    "plt.show()\n",
    "\n",
    "plt.scatter(X['latency'], regressor.predict(X), color = 'blue')\n",
    "plt.title('Predicted data')\n",
    "plt.xlabel('Latency')\n",
    "plt.ylabel('Estimated ci')\n",
    "plt.show()"
   ]
  },
  {
   "cell_type": "code",
   "execution_count": 408,
   "metadata": {},
   "outputs": [
    {
     "name": "stdout",
     "output_type": "stream",
     "text": [
      "The model training score is 0.9716158072366996\n"
     ]
    }
   ],
   "source": [
    "print(\"The model training score is\" , regressor.score(X_train, y_train))"
   ]
  },
  {
   "cell_type": "code",
   "execution_count": 409,
   "metadata": {},
   "outputs": [
    {
     "name": "stdout",
     "output_type": "stream",
     "text": [
      "The model training score is 0.9754690705698439\n"
     ]
    }
   ],
   "source": [
    "print(\"The model training score is\" , regressor.score(X_test, y_test))"
   ]
  },
  {
   "cell_type": "code",
   "execution_count": 399,
   "metadata": {},
   "outputs": [
    {
     "name": "stdout",
     "output_type": "stream",
     "text": [
      "[ 8.35514019 13.66666667 12.61538462 ... 46.         16.53351955\n",
      " 29.        ]\n"
     ]
    }
   ],
   "source": [
    "pred = regressor.predict(X_train)\n",
    "print(pred)"
   ]
  },
  {
   "cell_type": "code",
   "execution_count": null,
   "metadata": {},
   "outputs": [],
   "source": []
  },
  {
   "cell_type": "code",
   "execution_count": 353,
   "metadata": {},
   "outputs": [
    {
     "ename": "NameError",
     "evalue": "name 'print_score' is not defined",
     "output_type": "error",
     "traceback": [
      "\u001b[1;31m---------------------------------------------------------------------------\u001b[0m",
      "\u001b[1;31mNameError\u001b[0m                                 Traceback (most recent call last)",
      "\u001b[1;32m<ipython-input-353-2906beab8453>\u001b[0m in \u001b[0;36m<module>\u001b[1;34m\u001b[0m\n\u001b[1;32m----> 1\u001b[1;33m \u001b[0mprint_score\u001b[0m\u001b[1;33m(\u001b[0m\u001b[0mregressor\u001b[0m\u001b[1;33m,\u001b[0m \u001b[0mX_train\u001b[0m\u001b[1;33m,\u001b[0m \u001b[0my_train\u001b[0m\u001b[1;33m,\u001b[0m \u001b[0mX_test\u001b[0m\u001b[1;33m,\u001b[0m \u001b[0my_test\u001b[0m\u001b[1;33m,\u001b[0m\u001b[1;32mFalse\u001b[0m\u001b[1;33m)\u001b[0m\u001b[1;33m\u001b[0m\u001b[1;33m\u001b[0m\u001b[0m\n\u001b[0m",
      "\u001b[1;31mNameError\u001b[0m: name 'print_score' is not defined"
     ]
    }
   ],
   "source": [
    "print_score(regressor, X_train, y_train, X_test, y_test,False)"
   ]
  },
  {
   "cell_type": "code",
   "execution_count": 400,
   "metadata": {},
   "outputs": [
    {
     "data": {
      "text/html": [
       "<div>\n",
       "<style scoped>\n",
       "    .dataframe tbody tr th:only-of-type {\n",
       "        vertical-align: middle;\n",
       "    }\n",
       "\n",
       "    .dataframe tbody tr th {\n",
       "        vertical-align: top;\n",
       "    }\n",
       "\n",
       "    .dataframe thead th {\n",
       "        text-align: right;\n",
       "    }\n",
       "</style>\n",
       "<table border=\"1\" class=\"dataframe\">\n",
       "  <thead>\n",
       "    <tr style=\"text-align: right;\">\n",
       "      <th></th>\n",
       "      <th>Actual</th>\n",
       "      <th>Prediction</th>\n",
       "    </tr>\n",
       "  </thead>\n",
       "  <tbody>\n",
       "    <tr>\n",
       "      <th>5985</th>\n",
       "      <td>13.000000</td>\n",
       "      <td>13.000000</td>\n",
       "    </tr>\n",
       "    <tr>\n",
       "      <th>5418</th>\n",
       "      <td>10.071429</td>\n",
       "      <td>10.070114</td>\n",
       "    </tr>\n",
       "    <tr>\n",
       "      <th>3759</th>\n",
       "      <td>30.000000</td>\n",
       "      <td>30.000000</td>\n",
       "    </tr>\n",
       "    <tr>\n",
       "      <th>8597</th>\n",
       "      <td>46.000000</td>\n",
       "      <td>45.812121</td>\n",
       "    </tr>\n",
       "    <tr>\n",
       "      <th>1277</th>\n",
       "      <td>46.000000</td>\n",
       "      <td>29.000000</td>\n",
       "    </tr>\n",
       "    <tr>\n",
       "      <th>8416</th>\n",
       "      <td>46.000000</td>\n",
       "      <td>45.812121</td>\n",
       "    </tr>\n",
       "    <tr>\n",
       "      <th>5154</th>\n",
       "      <td>10.071429</td>\n",
       "      <td>10.071429</td>\n",
       "    </tr>\n",
       "    <tr>\n",
       "      <th>2179</th>\n",
       "      <td>10.000000</td>\n",
       "      <td>10.000000</td>\n",
       "    </tr>\n",
       "    <tr>\n",
       "      <th>3912</th>\n",
       "      <td>9.000000</td>\n",
       "      <td>9.142857</td>\n",
       "    </tr>\n",
       "    <tr>\n",
       "      <th>7458</th>\n",
       "      <td>8.000000</td>\n",
       "      <td>8.531646</td>\n",
       "    </tr>\n",
       "    <tr>\n",
       "      <th>4639</th>\n",
       "      <td>8.000000</td>\n",
       "      <td>8.021505</td>\n",
       "    </tr>\n",
       "    <tr>\n",
       "      <th>1408</th>\n",
       "      <td>46.000000</td>\n",
       "      <td>16.533520</td>\n",
       "    </tr>\n",
       "    <tr>\n",
       "      <th>273</th>\n",
       "      <td>55.000000</td>\n",
       "      <td>55.000000</td>\n",
       "    </tr>\n",
       "    <tr>\n",
       "      <th>5203</th>\n",
       "      <td>10.071429</td>\n",
       "      <td>10.070114</td>\n",
       "    </tr>\n",
       "    <tr>\n",
       "      <th>757</th>\n",
       "      <td>35.000000</td>\n",
       "      <td>35.000000</td>\n",
       "    </tr>\n",
       "    <tr>\n",
       "      <th>4958</th>\n",
       "      <td>11.000000</td>\n",
       "      <td>11.000000</td>\n",
       "    </tr>\n",
       "    <tr>\n",
       "      <th>932</th>\n",
       "      <td>22.000000</td>\n",
       "      <td>22.000000</td>\n",
       "    </tr>\n",
       "    <tr>\n",
       "      <th>2602</th>\n",
       "      <td>10.000000</td>\n",
       "      <td>10.000000</td>\n",
       "    </tr>\n",
       "    <tr>\n",
       "      <th>5305</th>\n",
       "      <td>10.071429</td>\n",
       "      <td>10.070114</td>\n",
       "    </tr>\n",
       "    <tr>\n",
       "      <th>10557</th>\n",
       "      <td>40.000000</td>\n",
       "      <td>40.000000</td>\n",
       "    </tr>\n",
       "    <tr>\n",
       "      <th>10601</th>\n",
       "      <td>24.000000</td>\n",
       "      <td>24.000000</td>\n",
       "    </tr>\n",
       "    <tr>\n",
       "      <th>1566</th>\n",
       "      <td>46.000000</td>\n",
       "      <td>42.200000</td>\n",
       "    </tr>\n",
       "    <tr>\n",
       "      <th>9124</th>\n",
       "      <td>8.000000</td>\n",
       "      <td>16.533520</td>\n",
       "    </tr>\n",
       "    <tr>\n",
       "      <th>4091</th>\n",
       "      <td>8.000000</td>\n",
       "      <td>8.146520</td>\n",
       "    </tr>\n",
       "    <tr>\n",
       "      <th>7647</th>\n",
       "      <td>8.000000</td>\n",
       "      <td>8.000000</td>\n",
       "    </tr>\n",
       "    <tr>\n",
       "      <th>3044</th>\n",
       "      <td>12.000000</td>\n",
       "      <td>12.000000</td>\n",
       "    </tr>\n",
       "    <tr>\n",
       "      <th>6273</th>\n",
       "      <td>8.000000</td>\n",
       "      <td>8.144828</td>\n",
       "    </tr>\n",
       "    <tr>\n",
       "      <th>4538</th>\n",
       "      <td>8.000000</td>\n",
       "      <td>8.144828</td>\n",
       "    </tr>\n",
       "    <tr>\n",
       "      <th>6583</th>\n",
       "      <td>8.000000</td>\n",
       "      <td>8.146520</td>\n",
       "    </tr>\n",
       "    <tr>\n",
       "      <th>9992</th>\n",
       "      <td>10.000000</td>\n",
       "      <td>12.769231</td>\n",
       "    </tr>\n",
       "    <tr>\n",
       "      <th>...</th>\n",
       "      <td>...</td>\n",
       "      <td>...</td>\n",
       "    </tr>\n",
       "    <tr>\n",
       "      <th>5576</th>\n",
       "      <td>10.071429</td>\n",
       "      <td>10.070114</td>\n",
       "    </tr>\n",
       "    <tr>\n",
       "      <th>4852</th>\n",
       "      <td>46.000000</td>\n",
       "      <td>29.000000</td>\n",
       "    </tr>\n",
       "    <tr>\n",
       "      <th>1213</th>\n",
       "      <td>46.000000</td>\n",
       "      <td>16.533520</td>\n",
       "    </tr>\n",
       "    <tr>\n",
       "      <th>4284</th>\n",
       "      <td>8.000000</td>\n",
       "      <td>8.000000</td>\n",
       "    </tr>\n",
       "    <tr>\n",
       "      <th>2236</th>\n",
       "      <td>8.000000</td>\n",
       "      <td>8.000000</td>\n",
       "    </tr>\n",
       "    <tr>\n",
       "      <th>3475</th>\n",
       "      <td>11.000000</td>\n",
       "      <td>11.000000</td>\n",
       "    </tr>\n",
       "    <tr>\n",
       "      <th>5678</th>\n",
       "      <td>10.071429</td>\n",
       "      <td>10.070114</td>\n",
       "    </tr>\n",
       "    <tr>\n",
       "      <th>3603</th>\n",
       "      <td>11.000000</td>\n",
       "      <td>11.000000</td>\n",
       "    </tr>\n",
       "    <tr>\n",
       "      <th>2902</th>\n",
       "      <td>15.000000</td>\n",
       "      <td>15.000000</td>\n",
       "    </tr>\n",
       "    <tr>\n",
       "      <th>7588</th>\n",
       "      <td>8.000000</td>\n",
       "      <td>8.255814</td>\n",
       "    </tr>\n",
       "    <tr>\n",
       "      <th>7347</th>\n",
       "      <td>10.071429</td>\n",
       "      <td>10.070114</td>\n",
       "    </tr>\n",
       "    <tr>\n",
       "      <th>1457</th>\n",
       "      <td>46.000000</td>\n",
       "      <td>46.000000</td>\n",
       "    </tr>\n",
       "    <tr>\n",
       "      <th>2654</th>\n",
       "      <td>10.000000</td>\n",
       "      <td>10.000000</td>\n",
       "    </tr>\n",
       "    <tr>\n",
       "      <th>3617</th>\n",
       "      <td>11.000000</td>\n",
       "      <td>11.000000</td>\n",
       "    </tr>\n",
       "    <tr>\n",
       "      <th>8696</th>\n",
       "      <td>46.000000</td>\n",
       "      <td>35.198381</td>\n",
       "    </tr>\n",
       "    <tr>\n",
       "      <th>3156</th>\n",
       "      <td>20.000000</td>\n",
       "      <td>20.000000</td>\n",
       "    </tr>\n",
       "    <tr>\n",
       "      <th>10679</th>\n",
       "      <td>42.000000</td>\n",
       "      <td>42.400000</td>\n",
       "    </tr>\n",
       "    <tr>\n",
       "      <th>8134</th>\n",
       "      <td>8.000000</td>\n",
       "      <td>8.025078</td>\n",
       "    </tr>\n",
       "    <tr>\n",
       "      <th>8277</th>\n",
       "      <td>8.000000</td>\n",
       "      <td>8.000000</td>\n",
       "    </tr>\n",
       "    <tr>\n",
       "      <th>9141</th>\n",
       "      <td>8.000000</td>\n",
       "      <td>29.000000</td>\n",
       "    </tr>\n",
       "    <tr>\n",
       "      <th>1231</th>\n",
       "      <td>46.000000</td>\n",
       "      <td>35.198381</td>\n",
       "    </tr>\n",
       "    <tr>\n",
       "      <th>2541</th>\n",
       "      <td>8.000000</td>\n",
       "      <td>8.146520</td>\n",
       "    </tr>\n",
       "    <tr>\n",
       "      <th>826</th>\n",
       "      <td>41.000000</td>\n",
       "      <td>41.000000</td>\n",
       "    </tr>\n",
       "    <tr>\n",
       "      <th>5436</th>\n",
       "      <td>10.071429</td>\n",
       "      <td>10.070114</td>\n",
       "    </tr>\n",
       "    <tr>\n",
       "      <th>1753</th>\n",
       "      <td>46.000000</td>\n",
       "      <td>35.198381</td>\n",
       "    </tr>\n",
       "    <tr>\n",
       "      <th>3227</th>\n",
       "      <td>15.000000</td>\n",
       "      <td>15.462687</td>\n",
       "    </tr>\n",
       "    <tr>\n",
       "      <th>7272</th>\n",
       "      <td>10.071429</td>\n",
       "      <td>10.070114</td>\n",
       "    </tr>\n",
       "    <tr>\n",
       "      <th>2812</th>\n",
       "      <td>13.000000</td>\n",
       "      <td>13.000000</td>\n",
       "    </tr>\n",
       "    <tr>\n",
       "      <th>4413</th>\n",
       "      <td>9.000000</td>\n",
       "      <td>9.000000</td>\n",
       "    </tr>\n",
       "    <tr>\n",
       "      <th>1692</th>\n",
       "      <td>46.000000</td>\n",
       "      <td>35.198381</td>\n",
       "    </tr>\n",
       "  </tbody>\n",
       "</table>\n",
       "<p>2191 rows × 2 columns</p>\n",
       "</div>"
      ],
      "text/plain": [
       "          Actual  Prediction\n",
       "5985   13.000000   13.000000\n",
       "5418   10.071429   10.070114\n",
       "3759   30.000000   30.000000\n",
       "8597   46.000000   45.812121\n",
       "1277   46.000000   29.000000\n",
       "8416   46.000000   45.812121\n",
       "5154   10.071429   10.071429\n",
       "2179   10.000000   10.000000\n",
       "3912    9.000000    9.142857\n",
       "7458    8.000000    8.531646\n",
       "4639    8.000000    8.021505\n",
       "1408   46.000000   16.533520\n",
       "273    55.000000   55.000000\n",
       "5203   10.071429   10.070114\n",
       "757    35.000000   35.000000\n",
       "4958   11.000000   11.000000\n",
       "932    22.000000   22.000000\n",
       "2602   10.000000   10.000000\n",
       "5305   10.071429   10.070114\n",
       "10557  40.000000   40.000000\n",
       "10601  24.000000   24.000000\n",
       "1566   46.000000   42.200000\n",
       "9124    8.000000   16.533520\n",
       "4091    8.000000    8.146520\n",
       "7647    8.000000    8.000000\n",
       "3044   12.000000   12.000000\n",
       "6273    8.000000    8.144828\n",
       "4538    8.000000    8.144828\n",
       "6583    8.000000    8.146520\n",
       "9992   10.000000   12.769231\n",
       "...          ...         ...\n",
       "5576   10.071429   10.070114\n",
       "4852   46.000000   29.000000\n",
       "1213   46.000000   16.533520\n",
       "4284    8.000000    8.000000\n",
       "2236    8.000000    8.000000\n",
       "3475   11.000000   11.000000\n",
       "5678   10.071429   10.070114\n",
       "3603   11.000000   11.000000\n",
       "2902   15.000000   15.000000\n",
       "7588    8.000000    8.255814\n",
       "7347   10.071429   10.070114\n",
       "1457   46.000000   46.000000\n",
       "2654   10.000000   10.000000\n",
       "3617   11.000000   11.000000\n",
       "8696   46.000000   35.198381\n",
       "3156   20.000000   20.000000\n",
       "10679  42.000000   42.400000\n",
       "8134    8.000000    8.025078\n",
       "8277    8.000000    8.000000\n",
       "9141    8.000000   29.000000\n",
       "1231   46.000000   35.198381\n",
       "2541    8.000000    8.146520\n",
       "826    41.000000   41.000000\n",
       "5436   10.071429   10.070114\n",
       "1753   46.000000   35.198381\n",
       "3227   15.000000   15.462687\n",
       "7272   10.071429   10.070114\n",
       "2812   13.000000   13.000000\n",
       "4413    9.000000    9.000000\n",
       "1692   46.000000   35.198381\n",
       "\n",
       "[2191 rows x 2 columns]"
      ]
     },
     "execution_count": 400,
     "metadata": {},
     "output_type": "execute_result"
    }
   ],
   "source": [
    "df_compare = pd.DataFrame({'Actual' : y_test, 'Prediction': y_pred})\n",
    "df_compare"
   ]
  },
  {
   "cell_type": "code",
   "execution_count": 401,
   "metadata": {},
   "outputs": [],
   "source": [
    "import pickle\n",
    "pickle_out = open(\"test.pkl\",mode=\"wb\")\n",
    "pickle.dump(regressor,pickle_out)\n",
    "pickle_out.close()"
   ]
  },
  {
   "cell_type": "code",
   "execution_count": null,
   "metadata": {},
   "outputs": [],
   "source": []
  },
  {
   "cell_type": "code",
   "execution_count": 453,
   "metadata": {},
   "outputs": [
    {
     "data": {
      "text/plain": [
       "RandomForestRegressor(n_estimators=1, random_state=0)"
      ]
     },
     "execution_count": 453,
     "metadata": {},
     "output_type": "execute_result"
    }
   ],
   "source": [
    "\n",
    "# Fitting Random Forest Regression to the dataset\n",
    "# import the regressor\n",
    "from sklearn.ensemble import RandomForestRegressor\n",
    " \n",
    " # create regressor object\n",
    "regressor = RandomForestRegressor(n_estimators = 1, random_state = 0)\n",
    " \n",
    "# fit the regressor with x and y data\n",
    "regressor.fit(X_train, y_train) "
   ]
  },
  {
   "cell_type": "code",
   "execution_count": 486,
   "metadata": {},
   "outputs": [
    {
     "data": {
      "text/plain": [
       "array([46.])"
      ]
     },
     "execution_count": 486,
     "metadata": {},
     "output_type": "execute_result"
    }
   ],
   "source": [
    "Y_pred = regressor.predict(np.array([[251,3,95,2,1]]))  # test the output by changing values\n",
    "Y_pred"
   ]
  },
  {
   "cell_type": "code",
   "execution_count": 487,
   "metadata": {},
   "outputs": [
    {
     "name": "stdout",
     "output_type": "stream",
     "text": [
      "The model training score is 0.966644051728519\n"
     ]
    }
   ],
   "source": [
    "print(\"The model training score is\" , regressor.score(X_train, y_train))"
   ]
  },
  {
   "cell_type": "code",
   "execution_count": 488,
   "metadata": {},
   "outputs": [],
   "source": [
    "import pickle\n",
    "pickle_out = open(\"rand.pkl\",mode=\"wb\")\n",
    "pickle.dump(regressor,pickle_out)\n",
    "pickle_out.close()"
   ]
  },
  {
   "cell_type": "code",
   "execution_count": null,
   "metadata": {},
   "outputs": [],
   "source": []
  }
 ],
 "metadata": {
  "kernelspec": {
   "display_name": "Python 3",
   "language": "python",
   "name": "python3"
  },
  "language_info": {
   "codemirror_mode": {
    "name": "ipython",
    "version": 3
   },
   "file_extension": ".py",
   "mimetype": "text/x-python",
   "name": "python",
   "nbconvert_exporter": "python",
   "pygments_lexer": "ipython3",
   "version": "3.7.3"
  }
 },
 "nbformat": 4,
 "nbformat_minor": 2
}
