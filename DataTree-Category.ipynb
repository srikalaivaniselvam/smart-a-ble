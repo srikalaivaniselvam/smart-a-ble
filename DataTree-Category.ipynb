{
 "cells": [
  {
   "cell_type": "raw",
   "metadata": {},
   "source": [
    "\n",
    "# A Decision Tree is a supervised algorithm used in machine learning. \n",
    "\n",
    "It is using a binary tree graph (each node has two children) to assign for each data sample a target value.The target values are presented in the tree leaves. To reach to the leaf, the sample is propagated through nodes, starting at the root node. In each node a decision is made, to which descendant node it should go. A decision is made based on the selected sample’s feature. Decision Tree learning is a process of finding the optimal rules in each internal tree node according to the selected metric.0."
   ]
  },
  {
   "cell_type": "code",
   "execution_count": 1,
   "metadata": {},
   "outputs": [],
   "source": [
    "from matplotlib import pyplot as plt\n",
    "from sklearn import datasets\n",
    "from sklearn.tree import DecisionTreeClassifier \n",
    "from sklearn import tree\n",
    "from sklearn.model_selection import train_test_split\n",
    "from sklearn.metrics import classification_report,confusion_matrix\n",
    "import numpy as np \n",
    "import pandas as pd"
   ]
  },
  {
   "cell_type": "code",
   "execution_count": 56,
   "metadata": {},
   "outputs": [
    {
     "name": "stdout",
     "output_type": "stream",
     "text": [
      "   dpl  nperi    ci  nce  category\n",
      "0   27      3  10.0   12         1\n",
      "1   27      3  15.0    6         1\n",
      "2   27      3  20.0   10         3\n",
      "3   27      3  25.0    8         2\n",
      "4   27      3  30.0   13         4\n"
     ]
    }
   ],
   "source": [
    "\n",
    "df=pd.read_csv('model_input_MultiClass_ver1.csv')\n",
    "print(df.head())\n",
    "#Splitting the class table into data X and class label y\n",
    "X=df[['dpl','nperi','ci']]\n",
    "y=df['category']\n"
   ]
  },
  {
   "cell_type": "code",
   "execution_count": 57,
   "metadata": {},
   "outputs": [
    {
     "name": "stdout",
     "output_type": "stream",
     "text": [
      "   dpl  nperi    ci  nce  category\n",
      "0   27      3  10.0   12         1\n",
      "1   27      3  15.0    6         1\n",
      "2   27      3  20.0   10         3\n",
      "3   27      3  25.0    8         2\n",
      "4   27      3  30.0   13         4\n"
     ]
    },
    {
     "data": {
      "text/plain": [
       "<matplotlib.axes._subplots.AxesSubplot at 0x1ff6c7ac208>"
      ]
     },
     "execution_count": 57,
     "metadata": {},
     "output_type": "execute_result"
    },
    {
     "data": {
      "image/png": "[encoded data removed]",
      "text/plain": [
       "<Figure size 432x288 with 2 Axes>"
      ]
     },
     "metadata": {
      "needs_background": "light"
     },
     "output_type": "display_data"
    }
   ],
   "source": [
    "data = pd.read_csv('model_input_MultiClass_ver1.csv')\n",
    "print(data.head(5))\n",
    "import seaborn as sns\n",
    "%matplotlib inline\n",
    "sns.heatmap(data.corr())"
   ]
  },
  {
   "attachments": {
    "image.png": {
     "image/png": "[encoded data removed]"
    }
   },
   "cell_type": "markdown",
   "metadata": {},
   "source": [
    "### Gini index or Gini impurity measures the degree or probability of a particular variable being wrongly classified when it is randomly chosen.\n",
    "\n",
    "![image.png](attachment:image.png)"
   ]
  },
  {
   "cell_type": "code",
   "execution_count": 140,
   "metadata": {},
   "outputs": [
    {
     "name": "stdout",
     "output_type": "stream",
     "text": [
      "              precision    recall  f1-score   support\n",
      "\n",
      "           1       1.00      1.00      1.00      2470\n",
      "           2       1.00      1.00      1.00       520\n",
      "           3       0.98      1.00      0.99       123\n",
      "           4       1.00      1.00      1.00       174\n",
      "\n",
      "    accuracy                           1.00      3287\n",
      "   macro avg       1.00      1.00      1.00      3287\n",
      "weighted avg       1.00      1.00      1.00      3287\n",
      "\n",
      "DecisionTreeClassifier(random_state=1234)\n"
     ]
    }
   ],
   "source": [
    "X_train, X_test, y_train, y_test = train_test_split(X, y, test_size=0.3, random_state=42)\n",
    "clf = DecisionTreeClassifier(random_state=1234)\n",
    "pred = clf.fit(X_train,y_train)\n",
    "predictions = clf.predict(X_test)\n",
    "print(classification_report(y_test,predictions))\n",
    "print(clf)\n"
   ]
  },
  {
   "cell_type": "code",
   "execution_count": 129,
   "metadata": {},
   "outputs": [
    {
     "data": {
      "text/plain": [
       "array([1], dtype=int64)"
      ]
     },
     "execution_count": 129,
     "metadata": {},
     "output_type": "execute_result"
    }
   ],
   "source": [
    "clf.predict([[251,5,15]])"
   ]
  },
  {
   "cell_type": "code",
   "execution_count": 76,
   "metadata": {},
   "outputs": [],
   "source": [
    "import pickle\n",
    "pickle_out = open(\"DT_Class.pkl\",mode=\"wb\")\n",
    "pickle.dump(clf,pickle_out)\n",
    "pickle_out.close()"
   ]
  },
  {
   "cell_type": "code",
   "execution_count": 114,
   "metadata": {},
   "outputs": [
    {
     "name": "stdout",
     "output_type": "stream",
     "text": [
      "              precision    recall  f1-score   support\n",
      "\n",
      "           1       1.00      1.00      1.00      2470\n",
      "           2       0.98      0.99      0.98       520\n",
      "           3       0.93      0.92      0.93       123\n",
      "           4       1.00      0.98      0.99       174\n",
      "\n",
      "    accuracy                           0.99      3287\n",
      "   macro avg       0.98      0.97      0.97      3287\n",
      "weighted avg       0.99      0.99      0.99      3287\n",
      "\n"
     ]
    }
   ],
   "source": [
    "from sklearn.ensemble import RandomForestClassifier\n",
    "rand_clf = RandomForestClassifier(max_depth=10, random_state=0)\n",
    "rand_clf.fit(X, y)\n",
    "rand_pred = rand_clf.predict(X_test)\n",
    "print(classification_report(y_test,rand_pred))"
   ]
  },
  {
   "cell_type": "code",
   "execution_count": 118,
   "metadata": {},
   "outputs": [
    {
     "name": "stdout",
     "output_type": "stream",
     "text": [
      "[3]\n"
     ]
    }
   ],
   "source": [
    "print(rand_clf.predict([[251,4,30]]))"
   ]
  },
  {
   "cell_type": "code",
   "execution_count": 103,
   "metadata": {},
   "outputs": [],
   "source": [
    "import pickle\n",
    "pickle_out = open(\"rand_Class.pkl\",mode=\"wb\")\n",
    "pickle.dump(clf,pickle_out)\n",
    "pickle_out.close()"
   ]
  },
  {
   "cell_type": "code",
   "execution_count": 79,
   "metadata": {},
   "outputs": [
    {
     "name": "stdout",
     "output_type": "stream",
     "text": [
      "[1]\n",
      "              precision    recall  f1-score   support\n",
      "\n",
      "           1       0.80      0.98      0.88      2470\n",
      "           2       0.00      0.00      0.00       520\n",
      "           3       0.26      0.22      0.24       123\n",
      "           4       0.74      0.63      0.68       174\n",
      "\n",
      "    accuracy                           0.78      3287\n",
      "   macro avg       0.45      0.46      0.45      3287\n",
      "weighted avg       0.65      0.78      0.71      3287\n",
      "\n"
     ]
    },
    {
     "name": "stderr",
     "output_type": "stream",
     "text": [
      "C:\\ProgramData\\Anaconda3\\lib\\site-packages\\sklearn\\metrics\\_classification.py:1248: UndefinedMetricWarning: Precision and F-score are ill-defined and being set to 0.0 in labels with no predicted samples. Use `zero_division` parameter to control this behavior.\n",
      "  _warn_prf(average, modifier, msg_start, len(result))\n",
      "C:\\ProgramData\\Anaconda3\\lib\\site-packages\\sklearn\\metrics\\_classification.py:1248: UndefinedMetricWarning: Precision and F-score are ill-defined and being set to 0.0 in labels with no predicted samples. Use `zero_division` parameter to control this behavior.\n",
      "  _warn_prf(average, modifier, msg_start, len(result))\n",
      "C:\\ProgramData\\Anaconda3\\lib\\site-packages\\sklearn\\metrics\\_classification.py:1248: UndefinedMetricWarning: Precision and F-score are ill-defined and being set to 0.0 in labels with no predicted samples. Use `zero_division` parameter to control this behavior.\n",
      "  _warn_prf(average, modifier, msg_start, len(result))\n"
     ]
    }
   ],
   "source": [
    "import numpy as np\n",
    "from sklearn.discriminant_analysis import LinearDiscriminantAnalysis\n",
    "#X = np.array([[-1, -1], [-2, -1], [-3, -2], [1, 1], [2, 1], [3, 2]])\n",
    "#y = np.array([1, 1, 1, 2, 2, 2])\n",
    "clf_LDA = LinearDiscriminantAnalysis()\n",
    "clf_LDA.fit(X_train,y_train)\n",
    "#LinearDiscriminantAnalysis()\n",
    "#print(clf.predict([[-0.8, -1]]))\n",
    "print(clf_LDA.predict([[251,5,50]]))\n",
    "lda_pred = clf_LDA.predict(X_test)\n",
    "print(classification_report(y_test,lda_pred))"
   ]
  },
  {
   "cell_type": "code",
   "execution_count": null,
   "metadata": {},
   "outputs": [],
   "source": []
  },
  {
   "cell_type": "code",
   "execution_count": 80,
   "metadata": {},
   "outputs": [
    {
     "name": "stdout",
     "output_type": "stream",
     "text": [
      "Accuracy on training set: 0.78\n",
      "Accuracy on test set: 0.79\n"
     ]
    }
   ],
   "source": [
    "#Below model created after doing PCA (2 components) on the input feature data which reduced the noise and least important dimensions to improve quality of the model created\n",
    "from sklearn import svm\n",
    "from sklearn import metrics\n",
    "\n",
    "model1 = svm.SVC()  \n",
    "model1.fit(X_train , y_train)\n",
    "y_pred = model1.predict(X_test)\n",
    "print(\"Accuracy on training set: {:.2f}\".format(model1.score(X_train, y_train)))\n",
    "print(\"Accuracy on test set: {:.2f}\".format(model1.score(X_test, y_test)))"
   ]
  },
  {
   "cell_type": "code",
   "execution_count": 81,
   "metadata": {},
   "outputs": [
    {
     "name": "stdout",
     "output_type": "stream",
     "text": [
      "              precision    recall  f1-score   support\n",
      "\n",
      "           1       0.80      1.00      0.89      2470\n",
      "           2       1.00      0.00      0.00       520\n",
      "           3       0.11      0.01      0.02       123\n",
      "           4       0.61      0.68      0.64       174\n",
      "\n",
      "    accuracy                           0.79      3287\n",
      "   macro avg       0.63      0.42      0.39      3287\n",
      "weighted avg       0.80      0.79      0.70      3287\n",
      "\n"
     ]
    }
   ],
   "source": [
    "print(classification_report(y_test, y_pred))"
   ]
  },
  {
   "cell_type": "code",
   "execution_count": null,
   "metadata": {},
   "outputs": [],
   "source": []
  }
 ],
 "metadata": {
  "kernelspec": {
   "display_name": "Python 3",
   "language": "python",
   "name": "python3"
  },
  "language_info": {
   "codemirror_mode": {
    "name": "ipython",
    "version": 3
   },
   "file_extension": ".py",
   "mimetype": "text/x-python",
   "name": "python",
   "nbconvert_exporter": "python",
   "pygments_lexer": "ipython3",
   "version": "3.7.3"
  }
 },
 "nbformat": 4,
 "nbformat_minor": 4
}
