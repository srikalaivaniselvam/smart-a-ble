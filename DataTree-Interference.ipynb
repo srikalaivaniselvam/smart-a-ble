{
 "cells": [
  {
   "cell_type": "raw",
   "metadata": {},
   "source": [
    "# A Decision Tree is a supervised algorithm used in machine learning. \n",
    "\n",
    "It is using a binary tree graph (each node has two children) to assign for each data sample a target value.The target values are presented in the tree leaves. To reach to the leaf, the sample is propagated through nodes, starting at the root node. In each node a decision is made, to which descendant node it should go. A decision is made based on the selected sample’s feature. Decision Tree learning is a process of finding the optimal rules in each internal tree node according to the selected metric."
   ]
  },
  {
   "cell_type": "code",
   "execution_count": 1,
   "metadata": {},
   "outputs": [],
   "source": [
    "from matplotlib import pyplot as plt\n",
    "from sklearn import datasets\n",
    "from sklearn.tree import DecisionTreeClassifier \n",
    "from sklearn import tree\n",
    "from sklearn.model_selection import train_test_split\n",
    "from sklearn.metrics import classification_report,confusion_matrix\n",
    "import numpy as np \n",
    "import pandas as pd"
   ]
  },
  {
   "cell_type": "code",
   "execution_count": 13,
   "metadata": {
    "scrolled": true
   },
   "outputs": [
    {
     "name": "stdout",
     "output_type": "stream",
     "text": [
      "   dpl  nperi    ci  nce\n",
      "0   27      3  10.0   12\n",
      "1   27      3  15.0    6\n",
      "2   27      3  20.0   10\n",
      "3   27      3  25.0    8\n",
      "4   27      3  30.0   13\n"
     ]
    }
   ],
   "source": [
    "\n",
    "df=pd.read_csv('model_input_ver5_int.csv')\n",
    "#df=pd.read_csv('model_input_ver2_interference.csv')\n",
    "df['noise'] = np.where(df['noise']==1, 'bad', 'good')#put 'genuine' if it is 1 labeled and 'forged' otherwise\n",
    "#Splitting the class table into data X and class label y\n",
    "X=df[['dpl','nperi','ci','nce']]\n",
    "y=df['noise']\n",
    "print(X.head())"
   ]
  },
  {
   "attachments": {
    "image.png": {
     "image/png": "[encoded data removed]"
    }
   },
   "cell_type": "markdown",
   "metadata": {},
   "source": [
    "### Gini index or Gini impurity measures the degree or probability of a particular variable being wrongly classified when it is randomly chosen.\n",
    "\n",
    "![image.png](attachment:image.png)"
   ]
  },
  {
   "cell_type": "code",
   "execution_count": 14,
   "metadata": {},
   "outputs": [
    {
     "name": "stdout",
     "output_type": "stream",
     "text": [
      "              precision    recall  f1-score   support\n",
      "\n",
      "         bad       0.78      0.81      0.79       540\n",
      "        good       0.96      0.95      0.96      2747\n",
      "\n",
      "    accuracy                           0.93      3287\n",
      "   macro avg       0.87      0.88      0.88      3287\n",
      "weighted avg       0.93      0.93      0.93      3287\n",
      "\n",
      "DecisionTreeClassifier(random_state=1234)\n"
     ]
    }
   ],
   "source": [
    "X_train, X_test, y_train, y_test = train_test_split(X, y, test_size=0.3, random_state=42)\n",
    "clf = DecisionTreeClassifier(random_state=1234)\n",
    "pred = clf.fit(X_train,y_train).predict_proba(X_train)\n",
    "predictions = clf.predict(X_test)\n",
    "print(classification_report(y_test,predictions))\n",
    "print(clf)"
   ]
  },
  {
   "cell_type": "code",
   "execution_count": 16,
   "metadata": {},
   "outputs": [
    {
     "data": {
      "text/plain": [
       "array(['bad'], dtype=object)"
      ]
     },
     "execution_count": 16,
     "metadata": {},
     "output_type": "execute_result"
    }
   ],
   "source": [
    "clf.predict([[ 251.       ,   5.       ,  15.             ,\n",
    "         6.    ]])"
   ]
  },
  {
   "cell_type": "code",
   "execution_count": 17,
   "metadata": {},
   "outputs": [
    {
     "data": {
      "text/plain": [
       "array(['bad'], dtype=object)"
      ]
     },
     "execution_count": 17,
     "metadata": {},
     "output_type": "execute_result"
    }
   ],
   "source": [
    "clf.predict([[ 251.       ,   5.       ,  15.          ,\n",
    "         12.  ]])"
   ]
  },
  {
   "cell_type": "code",
   "execution_count": 18,
   "metadata": {},
   "outputs": [],
   "source": [
    "import pickle\n",
    "pickle_out = open(\"interference2.pkl\",mode=\"wb\")\n",
    "pickle.dump(clf,pickle_out)\n",
    "pickle_out.close()"
   ]
  },
  {
   "cell_type": "code",
   "execution_count": 11,
   "metadata": {},
   "outputs": [
    {
     "name": "stdout",
     "output_type": "stream",
     "text": [
      "              precision    recall  f1-score   support\n",
      "\n",
      "         bad       0.00      0.00      0.00       540\n",
      "        good       0.84      1.00      0.91      2747\n",
      "\n",
      "    accuracy                           0.84      3287\n",
      "   macro avg       0.42      0.50      0.46      3287\n",
      "weighted avg       0.70      0.84      0.76      3287\n",
      "\n",
      "RandomForestClassifier(max_depth=1, random_state=0)\n"
     ]
    },
    {
     "name": "stderr",
     "output_type": "stream",
     "text": [
      "C:\\ProgramData\\Anaconda3\\lib\\site-packages\\sklearn\\metrics\\_classification.py:1248: UndefinedMetricWarning: Precision and F-score are ill-defined and being set to 0.0 in labels with no predicted samples. Use `zero_division` parameter to control this behavior.\n",
      "  _warn_prf(average, modifier, msg_start, len(result))\n",
      "C:\\ProgramData\\Anaconda3\\lib\\site-packages\\sklearn\\metrics\\_classification.py:1248: UndefinedMetricWarning: Precision and F-score are ill-defined and being set to 0.0 in labels with no predicted samples. Use `zero_division` parameter to control this behavior.\n",
      "  _warn_prf(average, modifier, msg_start, len(result))\n",
      "C:\\ProgramData\\Anaconda3\\lib\\site-packages\\sklearn\\metrics\\_classification.py:1248: UndefinedMetricWarning: Precision and F-score are ill-defined and being set to 0.0 in labels with no predicted samples. Use `zero_division` parameter to control this behavior.\n",
      "  _warn_prf(average, modifier, msg_start, len(result))\n"
     ]
    }
   ],
   "source": [
    "from sklearn.ensemble import RandomForestClassifier\n",
    "rand_clf = RandomForestClassifier(max_depth=1, random_state=0)\n",
    "'''rand_clf.fit(X, y)\n",
    "rand_pred = rand_clf.predict(X_test)\n",
    "print(classification_report(y_test,rand_pred))'''\n",
    "pred = rand_clf.fit(X_train,y_train).predict_proba(X_train)\n",
    "predictions = rand_clf.predict(X_test)\n",
    "print(classification_report(y_test,predictions))\n",
    "print(rand_clf)"
   ]
  },
  {
   "cell_type": "code",
   "execution_count": 12,
   "metadata": {},
   "outputs": [],
   "source": [
    "import pickle\n",
    "pickle_out = open(\"rand_interference.pkl\",mode=\"wb\")\n",
    "pickle.dump(rand_clf,pickle_out)\n",
    "pickle_out.close()"
   ]
  },
  {
   "cell_type": "code",
   "execution_count": null,
   "metadata": {},
   "outputs": [],
   "source": []
  }
 ],
 "metadata": {
  "kernelspec": {
   "display_name": "Python 3 (ipykernel)",
   "language": "python",
   "name": "python3"
  },
  "language_info": {
   "codemirror_mode": {
    "name": "ipython",
    "version": 3
   },
   "file_extension": ".py",
   "mimetype": "text/x-python",
   "name": "python",
   "nbconvert_exporter": "python",
   "pygments_lexer": "ipython3",
   "version": "3.9.7"
  }
 },
 "nbformat": 4,
 "nbformat_minor": 4
}
